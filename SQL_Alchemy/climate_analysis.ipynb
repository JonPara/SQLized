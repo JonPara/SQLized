{
 "cells": [
  {
   "cell_type": "code",
   "execution_count": 2,
   "metadata": {
    "collapsed": true
   },
   "outputs": [],
   "source": [
    "# Import libraries and dependencies for SQLalchemy\n",
    "\n",
    "import sqlalchemy\n",
    "from sqlalchemy import create_engine\n",
    "from sqlalchemy import Column, Integer, String, Float, Date\n",
    "from sqlalchemy import inspect, func, MetaData\n",
    "from sqlalchemy.ext.automap import automap_base\n",
    "from sqlalchemy.orm import Session\n",
    "from sqlalchemy.ext.declarative import declarative_base\n",
    "Base = automap_base()\n",
    "\n",
    "import datetime as datetime\n",
    "\n",
    "import pandas as pd\n",
    "import matplotlib.pyplot as plt\n",
    "import numpy as np"
   ]
  },
  {
   "cell_type": "code",
   "execution_count": 3,
   "metadata": {
    "collapsed": true
   },
   "outputs": [],
   "source": [
    "# Retrieve engine, connection and declare a Base from what was being passed into the prior classes that were made\n",
    "\n",
    "engine = create_engine(\"sqlite:///hawaii.sqlite\")\n",
    "Base = automap_base()\n",
    "Base.prepare(engine, reflect=True)"
   ]
  },
  {
   "cell_type": "code",
   "execution_count": 4,
   "metadata": {},
   "outputs": [
    {
     "data": {
      "text/plain": [
       "['measurements', 'station']"
      ]
     },
     "execution_count": 4,
     "metadata": {},
     "output_type": "execute_result"
    }
   ],
   "source": [
    "# Print all of the classes mapped to the Base\n",
    "\n",
    "Base.classes.keys()"
   ]
  },
  {
   "cell_type": "code",
   "execution_count": 5,
   "metadata": {},
   "outputs": [
    {
     "data": {
      "text/plain": [
       "['measurements', 'station']"
      ]
     },
     "execution_count": 5,
     "metadata": {},
     "output_type": "execute_result"
    }
   ],
   "source": [
    "inspector = inspect(engine)\n",
    "\n",
    "inspector.get_table_names()"
   ]
  },
  {
   "cell_type": "code",
   "execution_count": 6,
   "metadata": {},
   "outputs": [
    {
     "data": {
      "text/plain": [
       "[(1, 'USC00519397', '2010-01-01', 0.08, 65),\n",
       " (2, 'USC00519397', '2010-01-02', 0.0, 63),\n",
       " (3, 'USC00519397', '2010-01-03', 0.0, 74),\n",
       " (4, 'USC00519397', '2010-01-04', 0.0, 76),\n",
       " (5, 'USC00519397', '2010-01-06', 0.0, 73),\n",
       " (6, 'USC00519397', '2010-01-07', 0.06, 70),\n",
       " (7, 'USC00519397', '2010-01-08', 0.0, 64),\n",
       " (8, 'USC00519397', '2010-01-09', 0.0, 68),\n",
       " (9, 'USC00519397', '2010-01-10', 0.0, 73),\n",
       " (10, 'USC00519397', '2010-01-11', 0.01, 64)]"
      ]
     },
     "execution_count": 6,
     "metadata": {},
     "output_type": "execute_result"
    }
   ],
   "source": [
    "engine.execute(\"SELECT * FROM measurements LIMIT 10\").fetchall()"
   ]
  },
  {
   "cell_type": "code",
   "execution_count": 7,
   "metadata": {
    "collapsed": true
   },
   "outputs": [],
   "source": [
    "# Reflect Database into ORM class\n",
    "Station = Base.classes.station\n",
    "Measurements = Base.classes.measurements"
   ]
  },
  {
   "cell_type": "code",
   "execution_count": 8,
   "metadata": {
    "collapsed": true
   },
   "outputs": [],
   "source": [
    "# Start a session to query the database\n",
    "session = Session(engine)"
   ]
  },
  {
   "cell_type": "markdown",
   "metadata": {},
   "source": [
    "### Precipitation Analysis"
   ]
  },
  {
   "cell_type": "code",
   "execution_count": 9,
   "metadata": {},
   "outputs": [
    {
     "data": {
      "text/plain": [
       "('2017-08-23')"
      ]
     },
     "execution_count": 9,
     "metadata": {},
     "output_type": "execute_result"
    }
   ],
   "source": [
    "last_date = session.query(Measurements.date).order_by(Measurements.date.desc()).first()\n",
    "last_date"
   ]
  },
  {
   "cell_type": "code",
   "execution_count": 10,
   "metadata": {},
   "outputs": [
    {
     "name": "stdout",
     "output_type": "stream",
     "text": [
      "2016-08-23\n"
     ]
    }
   ],
   "source": [
    "days = 365\n",
    "last_year = datetime.date(2017,8,23) - datetime.timedelta(days)\n",
    "print(last_year)"
   ]
  },
  {
   "cell_type": "code",
   "execution_count": 11,
   "metadata": {
    "collapsed": true
   },
   "outputs": [],
   "source": [
    "precipitation = session.query(Measurements.date, Measurements.prcp).\\\n",
    "                filter(Measurements.date > last_year).\\\n",
    "                order_by(Measurements.date).all()"
   ]
  },
  {
   "cell_type": "code",
   "execution_count": 12,
   "metadata": {},
   "outputs": [
    {
     "data": {
      "text/html": [
       "<div>\n",
       "<style>\n",
       "    .dataframe thead tr:only-child th {\n",
       "        text-align: right;\n",
       "    }\n",
       "\n",
       "    .dataframe thead th {\n",
       "        text-align: left;\n",
       "    }\n",
       "\n",
       "    .dataframe tbody tr th {\n",
       "        vertical-align: top;\n",
       "    }\n",
       "</style>\n",
       "<table border=\"1\" class=\"dataframe\">\n",
       "  <thead>\n",
       "    <tr style=\"text-align: right;\">\n",
       "      <th></th>\n",
       "      <th>date</th>\n",
       "      <th>prcp</th>\n",
       "    </tr>\n",
       "  </thead>\n",
       "  <tbody>\n",
       "    <tr>\n",
       "      <th>0</th>\n",
       "      <td>2016-08-24</td>\n",
       "      <td>0.08</td>\n",
       "    </tr>\n",
       "    <tr>\n",
       "      <th>1</th>\n",
       "      <td>2016-08-24</td>\n",
       "      <td>2.15</td>\n",
       "    </tr>\n",
       "    <tr>\n",
       "      <th>2</th>\n",
       "      <td>2016-08-24</td>\n",
       "      <td>2.28</td>\n",
       "    </tr>\n",
       "    <tr>\n",
       "      <th>3</th>\n",
       "      <td>2016-08-24</td>\n",
       "      <td>0.00</td>\n",
       "    </tr>\n",
       "    <tr>\n",
       "      <th>4</th>\n",
       "      <td>2016-08-24</td>\n",
       "      <td>1.22</td>\n",
       "    </tr>\n",
       "  </tbody>\n",
       "</table>\n",
       "</div>"
      ],
      "text/plain": [
       "         date  prcp\n",
       "0  2016-08-24  0.08\n",
       "1  2016-08-24  2.15\n",
       "2  2016-08-24  2.28\n",
       "3  2016-08-24  0.00\n",
       "4  2016-08-24  1.22"
      ]
     },
     "execution_count": 12,
     "metadata": {},
     "output_type": "execute_result"
    }
   ],
   "source": [
    "precip_df = pd.DataFrame(precipitation)\n",
    "precip_df.head()"
   ]
  },
  {
   "cell_type": "code",
   "execution_count": 13,
   "metadata": {},
   "outputs": [
    {
     "data": {
      "image/png": "[encoded data removed]",
      "text/plain": [
       "<matplotlib.figure.Figure at 0x26ecb429cc0>"
      ]
     },
     "metadata": {},
     "output_type": "display_data"
    }
   ],
   "source": [
    "precip_df.plot('date', 'prcp')\n",
    "plt.xlabel(\"Date\")\n",
    "plt.ylabel(\"Rain in Inches\")\n",
    "plt.title(\"Preciption Analysis for 8/24/16 - 8/23/17\")\n",
    "plt.legend([\"Preciptation\"])\n",
    "plt.xticks(rotation = 50)\n",
    "gridlines = True\n",
    "plt.show()"
   ]
  },
  {
   "cell_type": "code",
   "execution_count": 14,
   "metadata": {},
   "outputs": [
    {
     "data": {
      "text/html": [
       "<div>\n",
       "<style>\n",
       "    .dataframe thead tr:only-child th {\n",
       "        text-align: right;\n",
       "    }\n",
       "\n",
       "    .dataframe thead th {\n",
       "        text-align: left;\n",
       "    }\n",
       "\n",
       "    .dataframe tbody tr th {\n",
       "        vertical-align: top;\n",
       "    }\n",
       "</style>\n",
       "<table border=\"1\" class=\"dataframe\">\n",
       "  <thead>\n",
       "    <tr style=\"text-align: right;\">\n",
       "      <th></th>\n",
       "      <th>prcp</th>\n",
       "    </tr>\n",
       "  </thead>\n",
       "  <tbody>\n",
       "    <tr>\n",
       "      <th>count</th>\n",
       "      <td>2223.000000</td>\n",
       "    </tr>\n",
       "    <tr>\n",
       "      <th>mean</th>\n",
       "      <td>0.159951</td>\n",
       "    </tr>\n",
       "    <tr>\n",
       "      <th>std</th>\n",
       "      <td>0.441220</td>\n",
       "    </tr>\n",
       "    <tr>\n",
       "      <th>min</th>\n",
       "      <td>0.000000</td>\n",
       "    </tr>\n",
       "    <tr>\n",
       "      <th>25%</th>\n",
       "      <td>0.000000</td>\n",
       "    </tr>\n",
       "    <tr>\n",
       "      <th>50%</th>\n",
       "      <td>0.010000</td>\n",
       "    </tr>\n",
       "    <tr>\n",
       "      <th>75%</th>\n",
       "      <td>0.110000</td>\n",
       "    </tr>\n",
       "    <tr>\n",
       "      <th>max</th>\n",
       "      <td>6.700000</td>\n",
       "    </tr>\n",
       "  </tbody>\n",
       "</table>\n",
       "</div>"
      ],
      "text/plain": [
       "              prcp\n",
       "count  2223.000000\n",
       "mean      0.159951\n",
       "std       0.441220\n",
       "min       0.000000\n",
       "25%       0.000000\n",
       "50%       0.010000\n",
       "75%       0.110000\n",
       "max       6.700000"
      ]
     },
     "execution_count": 14,
     "metadata": {},
     "output_type": "execute_result"
    }
   ],
   "source": [
    "precip_df.describe()"
   ]
  },
  {
   "cell_type": "code",
   "execution_count": 15,
   "metadata": {},
   "outputs": [
    {
     "name": "stdout",
     "output_type": "stream",
     "text": [
      "There are 9 stations.\n"
     ]
    }
   ],
   "source": [
    "stations_query = session.query(Measurements).group_by(Measurements.station).count()\n",
    "print(\"There are \" + str(stations_query) + \" stations.\")"
   ]
  },
  {
   "cell_type": "code",
   "execution_count": 16,
   "metadata": {},
   "outputs": [
    {
     "name": "stdout",
     "output_type": "stream",
     "text": [
      "The busiest station was USC00519281 with 2772 weather observations\n",
      " \n",
      "[('USC00519281', 2772), ('USC00519397', 2724), ('USC00513117', 2709), ('USC00519523', 2669), ('USC00516128', 2612), ('USC00514830', 2202), ('USC00511918', 1979), ('USC00517948', 1372), ('USC00518838', 511)]\n",
      "Station USC00519281 had 2772 weather observations\n",
      "Station USC00519397 had 2724 weather observations\n",
      "Station USC00513117 had 2709 weather observations\n",
      "Station USC00519523 had 2669 weather observations\n",
      "Station USC00516128 had 2612 weather observations\n",
      "Station USC00514830 had 2202 weather observations\n",
      "Station USC00511918 had 1979 weather observations\n",
      "Station USC00517948 had 1372 weather observations\n",
      "Station USC00518838 had 511 weather observations\n"
     ]
    }
   ],
   "source": [
    "busiest_station = session.query(Measurements.station, func.count(Measurements.tobs)).group_by(Measurements.station).\\\n",
    "                  order_by(func.count(Measurements.tobs).desc()).all()\n",
    "\n",
    "busiest = busiest_station[0][0]\n",
    "\n",
    "print(\"The busiest station was \" + str(busiest) + \" with \" + str(busiest_station[0][1]) + \" weather observations\" )\n",
    "    \n",
    "print(\" \")\n",
    "    \n",
    "print(busiest_station)\n",
    "for station, count in busiest_station:\n",
    "    print(\"Station\",station,\"had\",count,\"weather observations\")"
   ]
  },
  {
   "cell_type": "code",
   "execution_count": 19,
   "metadata": {},
   "outputs": [],
   "source": [
    "temp_df = session.query(Measurements.station, Measurements.date, Measurements.tobs).\\\n",
    "       filter(Measurements.station == busiest).\\\n",
    "       filter(Measurements.date > last_year).\\\n",
    "       order_by(Measurements.date).all()\n",
    "\n",
    "temp_df = pd.DataFrame(temp_df)"
   ]
  },
  {
   "cell_type": "code",
   "execution_count": 20,
   "metadata": {},
   "outputs": [
    {
     "data": {
      "image/png": "[encoded data removed]",
      "text/plain": [
       "<matplotlib.figure.Figure at 0x26eccbb5828>"
      ]
     },
     "metadata": {},
     "output_type": "display_data"
    }
   ],
   "source": [
    "plt.hist(temp_df['tobs'], 12)\n",
    "plt.xlabel(\"Record Temperature\")\n",
    "plt.ylabel(\"Number of Recorded Observations\")\n",
    "plt.title(\"Station Analysis 08/24/16 to 08/23/17 for Station \" + busiest)\n",
    "plt.show()"
   ]
  },
  {
   "cell_type": "markdown",
   "metadata": {
    "collapsed": true
   },
   "source": [
    "### Temperature Analysis"
   ]
  },
  {
   "cell_type": "code",
   "execution_count": 28,
   "metadata": {},
   "outputs": [
    {
     "name": "stdout",
     "output_type": "stream",
     "text": [
      "[(56, 69.62559241706161, 78)]\n"
     ]
    }
   ],
   "source": [
    "def calc_temps(start_date,end_date):\n",
    "    \n",
    "    return session.query(func.min(Measurements.tobs), func.avg(Measurements.tobs),func.max(Measurements.tobs)).\\\n",
    "           filter(Measurements.date >= start_date).filter(Measurements.date <= end_date).all()\n",
    "    \n",
    "print(calc_temps('2012-02-08', '2012-03-05'))"
   ]
  },
  {
   "cell_type": "code",
   "execution_count": 32,
   "metadata": {},
   "outputs": [
    {
     "name": "stdout",
     "output_type": "stream",
     "text": [
      "[(66, 75.24444444444444, 80)]\n"
     ]
    }
   ],
   "source": [
    "trip_arrive = datetime.date(2018, 5, 5)\n",
    "trip_leave = datetime.date(2018, 5, 12)\n",
    "last_year = datetime.timedelta(days = 365)\n",
    "temp_avg_1st_year = calc_temps((trip_arrive - last_year), (trip_leave - last_year))\n",
    "print(temp_avg_1st_year)"
   ]
  },
  {
   "cell_type": "code",
   "execution_count": 40,
   "metadata": {},
   "outputs": [
    {
     "data": {
      "image/png": "[encoded data removed]",
      "text/plain": [
       "<matplotlib.figure.Figure at 0x26ecce70518>"
      ]
     },
     "metadata": {},
     "output_type": "display_data"
    }
   ],
   "source": [
    "fig, ax = plt.subplots()\n",
    "x = range(len(temp_avg_1st_year))\n",
    "ax.boxplot(temp_avg_1st_year)\n",
    "ax.set_title(\"Trip Average Temp. From Last Year\")\n",
    "ax.set_ylabel(\"Temperature\")\n",
    "ax.set_xlabel(\"Trip\")\n",
    "\n",
    "plt.show()"
   ]
  },
  {
   "cell_type": "code",
   "execution_count": null,
   "metadata": {
    "collapsed": true
   },
   "outputs": [],
   "source": []
  }
 ],
 "metadata": {
  "kernelspec": {
   "display_name": "Python 3",
   "language": "python",
   "name": "python3"
  },
  "language_info": {
   "codemirror_mode": {
    "name": "ipython",
    "version": 3
   },
   "file_extension": ".py",
   "mimetype": "text/x-python",
   "name": "python",
   "nbconvert_exporter": "python",
   "pygments_lexer": "ipython3",
   "version": "3.6.3"
  }
 },
 "nbformat": 4,
 "nbformat_minor": 2
}

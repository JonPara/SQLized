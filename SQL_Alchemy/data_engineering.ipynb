{
 "cells": [
  {
   "cell_type": "code",
   "execution_count": 6,
   "metadata": {
    "collapsed": true
   },
   "outputs": [],
   "source": [
    "# Import starting libraries and dependencies \n",
    "\n",
    "import pandas as pd\n",
    "import numpy as np\n",
    "import matplotlib.pyplot as plt"
   ]
  },
  {
   "cell_type": "code",
   "execution_count": 7,
   "metadata": {},
   "outputs": [],
   "source": [
    "# Read and define .csv files\n",
    "\n",
    "hawaii_measurements = \"hawaii_measurements.csv\"\n",
    "hawaii_stations = \"hawaii_stations.csv\"\n",
    "\n",
    "hawaii_measurements = pd.read_csv(hawaii_measurements)\n",
    "hawaii_stations = pd.read_csv(hawaii_stations)"
   ]
  },
  {
   "cell_type": "code",
   "execution_count": 8,
   "metadata": {},
   "outputs": [
    {
     "name": "stdout",
     "output_type": "stream",
     "text": [
      "       station        date  prcp  tobs\n",
      "0  USC00519397  2010-01-01  0.08    65\n",
      "1  USC00519397  2010-01-02  0.00    63\n",
      "       station                  name  latitude  longitude  elevation\n",
      "0  USC00519397  WAIKIKI 717.2, HI US   21.2716  -157.8168        3.0\n",
      "1  USC00513117  KANEOHE 838.1, HI US   21.4234  -157.8015       14.6\n"
     ]
    }
   ],
   "source": [
    "# Read head of data to make sure it has been passed properly\n",
    "\n",
    "print(hawaii_measurements.head(2))\n",
    "print(hawaii_stations.head(2))"
   ]
  },
  {
   "cell_type": "code",
   "execution_count": 9,
   "metadata": {},
   "outputs": [
    {
     "name": "stdout",
     "output_type": "stream",
     "text": [
      "Index(['station', 'date', 'prcp', 'tobs'], dtype='object')\n",
      "Index(['station', 'name', 'latitude', 'longitude', 'elevation'], dtype='object')\n"
     ]
    }
   ],
   "source": [
    "# Check columns\n",
    "\n",
    "print(hawaii_measurements.columns)\n",
    "print(hawaii_stations.columns)"
   ]
  },
  {
   "cell_type": "code",
   "execution_count": 10,
   "metadata": {},
   "outputs": [],
   "source": [
    "# Fill NaN values with 0.00\n",
    "\n",
    "hawaii_measurements = hawaii_measurements.fillna(0.00)"
   ]
  },
  {
   "cell_type": "code",
   "execution_count": 11,
   "metadata": {},
   "outputs": [],
   "source": [
    "# Establish new .csv file with replaced NaNs\n",
    "hawaii_measurements.to_csv(\"cleaned_hawaii_measurements.csv\", index = False)\n",
    "hawaii_stations.to_csv(\"hawaii_stations.csv\", index = False)"
   ]
  },
  {
   "cell_type": "code",
   "execution_count": null,
   "metadata": {
    "collapsed": true
   },
   "outputs": [],
   "source": []
  }
 ],
 "metadata": {
  "kernelspec": {
   "display_name": "Python 3",
   "language": "python",
   "name": "python3"
  },
  "language_info": {
   "codemirror_mode": {
    "name": "ipython",
    "version": 3
   },
   "file_extension": ".py",
   "mimetype": "text/x-python",
   "name": "python",
   "nbconvert_exporter": "python",
   "pygments_lexer": "ipython3",
   "version": "3.6.3"
  }
 },
 "nbformat": 4,
 "nbformat_minor": 2
}
